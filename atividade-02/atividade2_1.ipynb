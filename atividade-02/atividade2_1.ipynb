{
 "cells": [
  {
   "cell_type": "markdown",
   "id": "eee3b953",
   "metadata": {},
   "source": [
    "## Qiskit textbook, volume 1\n",
    "### O funcionamento de computadores clássicos"
   ]
  },
  {
   "cell_type": "code",
   "execution_count": null,
   "id": "d6989063",
   "metadata": {},
   "outputs": [],
   "source": [
    "# Célula de importações\n",
    "import matplotlib\n",
    "from qiskit import QuantumCircuit, assemble, Aer\n",
    "from qiskit.visualization import plot_histogram, plot_bloch_vector#, visualize_transition\n",
    "from math import sqrt, pi, pow, cos, sin, e\n",
    "from numpy import arccos\n",
    "\n",
    "# OBS: Após baixar, descomentar o \"visualize_transition\", acontece que ele deixa o arquivo .ipynb incrivelmente pesado\n",
    "    "
   ]
  },
  {
   "cell_type": "markdown",
   "id": "5f1dd76a",
   "metadata": {},
   "source": [
    "### Dividindo informações em bits"
   ]
  },
  {
   "cell_type": "code",
   "execution_count": null,
   "id": "efe5e5ab",
   "metadata": {},
   "outputs": [],
   "source": [
    "#Primeiro exercício, retorna o binário de um número\n",
    "def exercicio_01(n):\n",
    "    return f'{n:04b}'\n",
    "binsd = exercicio_01(72)\n",
    "print(f\"72 em binário seria {binsd}\")\n",
    "\n",
    "# Segundo exercício, apenas responde uma pergunta\n",
    "def exercício_02(a):\n",
    "    pergunta = \"Se você tem um número N de bits, em quantos estados diferentes podemos representa-los?\"\n",
    "    print(pergunta)\n",
    "    print(f\"Resposta: {a}\")\n",
    "exercício_02(\"Levando em conta que cada bit contém 2 estados de informação, 2^n\")"
   ]
  },
  {
   "cell_type": "markdown",
   "id": "0bbba623",
   "metadata": {},
   "source": [
    "### Criando um circuito quântico"
   ]
  },
  {
   "cell_type": "code",
   "execution_count": null,
   "id": "e384ce31",
   "metadata": {
    "scrolled": true
   },
   "outputs": [],
   "source": [
    "qc_out = QuantumCircuit(8) # Cria um circuito com 8 bits quânticos\n",
    "qc_out.measure_all() # Faz a medição do circuito, criando 8 bits de saída\n",
    "\n",
    "def simular_circuito(qc):\n",
    "    simulador = Aer.get_backend('aer_simulator') # Backend de simulação\n",
    "    resultado = simulador.run(qc).result()\n",
    "    counter = resultado.get_counts()\n",
    "    return counter\n",
    "\n",
    "plot_histogram(simular_circuito(qc_out))"
   ]
  },
  {
   "cell_type": "markdown",
   "id": "a7c0fd4a",
   "metadata": {},
   "source": [
    "### Introdução a portas lógicas\n",
    "#### NOT gate"
   ]
  },
  {
   "cell_type": "code",
   "execution_count": null,
   "id": "a1e7282b",
   "metadata": {},
   "outputs": [],
   "source": [
    "# A porta NOT é bastante simples, ela simplesmente inverte o valor de um bit NOT(0) = 1 && NOT(1) = 0\n",
    "# Para Qubits, esta porta é conhecida como \" x \", ou \" pauli-x \""
   ]
  },
  {
   "cell_type": "code",
   "execution_count": null,
   "id": "70a794bb",
   "metadata": {},
   "outputs": [],
   "source": [
    "qc_encode = QuantumCircuit(8) # Cria um circuito de 8 bits\n",
    "qc_encode.x(7) # Utiliza uma porta x no sétimo qubit do circuito (ou o oitavo, já que começamos a contar do 0)\n",
    "qc_encode.draw(output=\"mpl\") # Desenha o circuito na tela"
   ]
  },
  {
   "cell_type": "code",
   "execution_count": null,
   "id": "06d71244",
   "metadata": {},
   "outputs": [],
   "source": [
    "qc_encode.measure_all() # Realiza a medição de todos os qubits, da mesma maneira que fizemos no circuito anterior\n",
    "qc_encode.draw(output=\"mpl\") # Desenha o circuito na tela"
   ]
  },
  {
   "cell_type": "code",
   "execution_count": null,
   "id": "a96940fc",
   "metadata": {},
   "outputs": [],
   "source": [
    "plot_histogram(simular_circuito(qc_encode))"
   ]
  },
  {
   "cell_type": "markdown",
   "id": "6c038d75",
   "metadata": {},
   "source": [
    "Um detalhe importante de ser mencionado é o fato de que as strings de binário do qiskit devem ser lidas da direita para a esquerda, que nem na escrita hebraica. Então ao alterar apenas o sétimo bit da string, teremos \"10000000\" que pode ser convertido para 128, ou 2⁷, como visto anteriormente"
   ]
  },
  {
   "cell_type": "code",
   "execution_count": null,
   "id": "6f0df6d2",
   "metadata": {},
   "outputs": [],
   "source": [
    "# Exercício, codificando um número aleatório com um circuito, utilizando o mesmo número do exercício 1, 72\n",
    "def exercicio_03():\n",
    "    qc = QuantumCircuit(7)\n",
    "    qc.x(6)\n",
    "    qc.x(3)\n",
    "    qc.measure_all()\n",
    "    y = simular_circuito(qc)\n",
    "    return y\n",
    "plot_histogram(exercicio_03()) \n",
    "# Um detalhe, ao usar a função \"plot_histogram\" dentro de outra função eu recebo um erro do matplotlib, então por isso que estou chamando essa função sempre sozinha   "
   ]
  },
  {
   "cell_type": "markdown",
   "id": "6841638a",
   "metadata": {},
   "source": [
    "### Adicionando binários\n",
    "No início deste capítulo, a documentação ensina a somar binários na mão, o que é uma ação simples porém trabalhosa, perfeita para ser automatizada com um circuito"
   ]
  },
  {
   "cell_type": "markdown",
   "id": "20adfea6",
   "metadata": {},
   "source": [
    " Como sempre, esse circuito irá codificar um input X e entregar um output Y equivalente a soma que queremos<br>\n",
    " O primeiro passo para fazer um circuito de adição, é verificarmos se dois bits são iguais ou diferentes<br>\n",
    " Fazemos isso com uma XOR gate, que basicamente age deste jeito: <br>\n",
    " <br>\n",
    "  XOR(0, 0) = 0 <br>\n",
    "  XOR(0, 1) = 1 <br>\n",
    "  XOR(1, 0) = 1 <br>\n",
    "  XOR(1, 1) = 0 <br>\n",
    "  <br>\n",
    "A porta quântica responsável por este trabalho é a controlled-NOT (CNOT) gate (que eu fiquei devendo no mapa mental, perdão por isso)"
   ]
  },
  {
   "cell_type": "code",
   "execution_count": null,
   "id": "82b72c08",
   "metadata": {},
   "outputs": [],
   "source": [
    "qc_cnot = QuantumCircuit(2) # Cria um circuito com 2 qubits\n",
    "qc_cnot.cx(0,1) # Esta função é aplicada a 2 qubits, um de controle o outro sendo o alvo\n",
    "qc_cnot.draw(output=\"mpl\")"
   ]
  },
  {
   "cell_type": "markdown",
   "id": "73563e83",
   "metadata": {},
   "source": [
    "A função é aplicada com os 2 qubits de input, e seu output é registrado no qubit <i>Target</i> ou <i>Alvo</i> (que é o com o círculo marcado pelo X) "
   ]
  },
  {
   "cell_type": "code",
   "execution_count": null,
   "id": "8a59e6d2",
   "metadata": {},
   "outputs": [],
   "source": [
    "qc_ha = QuantumCircuit(4,2) # Cria um circuito quântico com 4 qubits e 2 bits clássicos\n",
    "qc_ha.x(0) \n",
    "qc_ha.x(1) \n",
    "qc_ha.barrier()\n",
    "# use cnots to write the XOR of the inputs on qubit 2\n",
    "qc_ha.cx(0,2)\n",
    "qc_ha.cx(1,2)\n",
    "qc_ha.barrier()\n",
    "# extract outputsoutput=\"mpl\"\n",
    "qc_ha.measure(2,0) # extract XOR value\n",
    "qc_ha.measure(3,1)\n",
    "\n",
    "qc_ha.draw(output=\"mpl\")\n",
    "\n",
    "#Neste circuito, já temos metade do circuito que queremos para somar dois binários\n",
    "#\n",
    "# Se q0 == 1 && q1 == 1: q2 = 1 && q3 = 0; (q2,q3) = (1, 0) \n",
    "# Agora, precisamos aplicar uma Toffoli gate, que é equivalente a AND gate\n",
    "#\n",
    "# Toffoli(1 , 1, 1) => (1, 1, 0)\n",
    "# Toffoli(1 , 1, 0) => (1, 1, 1)\n",
    "# inverte o valor do qubit alvo caso os dois qubits-controle tiverem valor 1 "
   ]
  },
  {
   "cell_type": "code",
   "execution_count": null,
   "id": "583c878e",
   "metadata": {},
   "outputs": [],
   "source": [
    "qc_ha = QuantumCircuit(4,2) # Cria um circuito quântico com 4 qubits e 2 bits clássicos\n",
    "qc_ha.x(0) \n",
    "qc_ha.x(1) \n",
    "qc_ha.barrier()\n",
    "# use cnots to write the XOR of the inputs on qubit 2\n",
    "qc_ha.cx(0,2)\n",
    "qc_ha.cx(1,2)\n",
    "qc_ha.ccx(0, 1, 3)\n",
    "qc_ha.barrier()\n",
    "# extract outputsoutput=\"mpl\"\n",
    "qc_ha.measure(2,0) # extract XOR value\n",
    "qc_ha.measure(3,1)\n",
    "\n",
    "qc_ha.draw(output=\"mpl\")"
   ]
  },
  {
   "cell_type": "code",
   "execution_count": null,
   "id": "1b2fed71",
   "metadata": {},
   "outputs": [],
   "source": [
    "simulador = Aer.get_backend('aer_simulator') # Backend de simulação\n",
    "qobj = assemble(qc_ha)\n",
    "counts = simulador.run(qobj).result().get_counts()\n",
    "plot_histogram(counts)"
   ]
  },
  {
   "cell_type": "markdown",
   "id": "6a987559",
   "metadata": {},
   "source": [
    "A partir de agora eu vou escrever um pouco menos, visto que o resto do capítulo é em sua grande parte composto por explicações teóricas. <br> Pelo tempo acho que não vai ser possível aplicar nesta atividade, mas eu vi pela internet que é possível escrever em LaTeX no jupyter, vou ver se aprendo e aplico nas próximas atividades <br><br>\n",
    "Por enquanto vou fazer anotações em markdown "
   ]
  },
  {
   "cell_type": "markdown",
   "id": "2f9e6757",
   "metadata": {},
   "source": [
    "### State vectors\n",
    "Eu achei os vetores de estado muito parecidos com os dados comumente denominados como \"y\" em uma rede neural após aplicado o one-hot encoding, como se o mesmo fosse um vetor de estado sempre clássico. \n",
    "<br>\n",
    "<img src=\"sources/state_vectors.png\" alt=\"State Vector\"/>\n",
    "<br>\n",
    "Um vetor de estado é uma matriz a(n,1) onde são alocadas as probabilidades de encontrarmos X elemento em Y estado, como no exemplo acima, onde é de certo que encontraremos um carro na posição 4"
   ]
  },
  {
   "cell_type": "markdown",
   "id": "545d0244",
   "metadata": {},
   "source": [
    "### Notação de qubits\n",
    "Bits comuns podem ser representados de um jeito bem simples, apenas definindo-os com os valores de 0 ou 1\n",
    "    <br><center>c = 1 || c = 0 </center><br>\n",
    "Já para os qubits, apenas teremos valores certos de 0 ou 1 após a medição de seu estado, antes disso o seu estado pode ser apenas definido por maneiras probabilísticas. Para isto, nós utilizamos os vetores de estado e uma notação conhecida como \"<i>bra-ket notation</i>\" criada pelo físico teórico Paul Dirac.\n",
    "<br>\n",
    "<img src=\"sources/bra_ket.png\" alt=\"State Vector\"/>\n",
    "<center> \n",
    "    Exemplo da <i>ket notation</i> utilizada para representar os estados 0 e 1 de um qubit, respectivamente.\n",
    "    <br> (Isso é basicamente o que foi visto acima, porém refinado para qubits) <br>\n",
    "</center>\n",
    "Algo muito especial dessa notação, é o fato de que podemos representar qubits em estados de superposição utilizando ela, segue um exemplo:\n",
    "<img src=\"sources/superposition_ket.png\" alt=\"State Vector\"/>\n",
    "<br>\n",
    "<center> Para melhor entender essa notação, eu sinto que é necessário o desenvolvimento da expressão acima.</center>\n",
    "    <br>\n",
    "<img src=\"sources/kQ0et.png\" alt=\"State Vector\"/>\n",
    "    <br>\n",
    "E com esta ferramenta e algumas outras, podemos compreender e manipular os estados de um qubit ao favor do nosso objetivo.\n",
    "<br>\n",
    "<br>\n",
    "Não é citado na documentação, mas vale salientar que a soma das amplitudes elevadas ao quadrado deve ser igual a 1\n",
    "  \n"
   ]
  },
  {
   "cell_type": "markdown",
   "id": "63aec2a5",
   "metadata": {},
   "source": [
    "### Implementação dos conhecimentos recém adquiridos"
   ]
  },
  {
   "cell_type": "code",
   "execution_count": null,
   "id": "2f35c2a0",
   "metadata": {},
   "outputs": [],
   "source": [
    "def exercicio_04(estado):\n",
    "    qc = QuantumCircuit(1) # Cria circuito com 1 qubit\n",
    "    # Inicialmente, os qubits sempre se econtram no estado |0> \n",
    "    qc.initialize(estado, 0) # Define o primeiro (0st) qubit como o estado inicial anteriormente definido\n",
    "    qc.save_statevector() # Fala para o simulador salvar o vetor de estado que alteramos\n",
    "    qobj = assemble(qc) # Monta o objeto deste específico circuito\n",
    "    return qobj, qc\n",
    "\n",
    "def simular_exercicio_04(*estado): # Simulação para o qubit [0, 1]\n",
    "    if len(estado) > 0:\n",
    "        estado_inicial = estado[0]\n",
    "    else:\n",
    "        estado_inicial = [0, 1] #exemplo do livro-texto\n",
    "        \n",
    "    simulador = Aer.get_backend('aer_simulator') \n",
    "    qc, qc_o = exercicio_04(estado_inicial)\n",
    "    resultado = simulador.run(qc).result()\n",
    "    vetor_estado_output = resultado.get_statevector()\n",
    "    print(\"Lembre-se que no python 'j' é utilizado como o número imaginário 'i' \\n\")\n",
    "    \n",
    "    if str(vetor_estado_output[1])[0] == \"(\": \n",
    "        p2 = str(vetor_estado_output[1])[1]\n",
    "    else: \n",
    "        p2 = str(vetor_estado_output[1])[0]\n",
    "        \n",
    "    if str(vetor_estado_output[0])[0] == \"(\": \n",
    "        p1 = str(vetor_estado_output[0])[1]\n",
    "    else: \n",
    "        p1 = str(vetor_estado_output[0])[0]\n",
    "        \n",
    "    print(f\"\"\"\n",
    "        Estados medidos:\n",
    "\n",
    "        | {vetor_estado_output[0]} -> {p1} (ignorar caso L>1)\n",
    "        | {vetor_estado_output[1]} -> {p2} (ignorar caso L>1)\n",
    "    \"\"\")\n",
    "    \n",
    "    qc_o.measure_all()\n",
    "    print(f\"\\n{qc_o}\")\n",
    "    qobj = assemble(qc_o)\n",
    "    result = simulador.run(qobj).result()\n",
    "    counts = result.get_counts()\n",
    "    return counts\n",
    "    \n",
    "    "
   ]
  },
  {
   "cell_type": "code",
   "execution_count": null,
   "id": "1510cfe6",
   "metadata": {},
   "outputs": [],
   "source": [
    "x = simular_exercicio_04([0, 1])\n",
    "y = simular_exercicio_04([1, 0])\n",
    "z = simular_exercicio_04([1/sqrt(2), 1/sqrt(2)])"
   ]
  },
  {
   "cell_type": "code",
   "execution_count": null,
   "id": "1060b262",
   "metadata": {},
   "outputs": [],
   "source": [
    "plot_histogram(x)"
   ]
  },
  {
   "cell_type": "code",
   "execution_count": null,
   "id": "9682111b",
   "metadata": {},
   "outputs": [],
   "source": [
    "plot_histogram(y)"
   ]
  },
  {
   "cell_type": "code",
   "execution_count": null,
   "id": "d732db7f",
   "metadata": {},
   "outputs": [],
   "source": [
    "plot_histogram(z)"
   ]
  },
  {
   "cell_type": "markdown",
   "id": "9e98ab83",
   "metadata": {},
   "source": [
    "### Regras de medição\n",
    "Como citado anteriormente, a soma do módulos das amplitures ao quadrado devem ser iguais a 1, podemos ver isso representando matematicamente a seguir:\n",
    "<img src=\"sources/regra_medicao.png\">\n",
    "Aqui vemos o primeiro uso de um \"bra\" que é similar ao \"ket\" só que ao invés de um vetor-coluna temos um vetor-linha. juntos, eles fazem uma \"bra-ket\" notation."
   ]
  },
  {
   "cell_type": "code",
   "execution_count": null,
   "id": "2ce9879c",
   "metadata": {},
   "outputs": [],
   "source": [
    "def exercicio_05():\n",
    "    initial_state = [1/sqrt(2), 0.+1.j/sqrt(2)]\n",
    "    x = simular_exercicio_04([1/sqrt(2), 0.+1.j/sqrt(2)])\n",
    "    return x\n",
    "x = exercicio_05()\n",
    "plot_histogram(x)"
   ]
  },
  {
   "cell_type": "code",
   "execution_count": null,
   "id": "0f29a280",
   "metadata": {},
   "outputs": [],
   "source": [
    "# Exercicio 6\n",
    "a = sqrt(1/3)\n",
    "b = sqrt(1 - 1/3)\n",
    "\n",
    "state_vector = [a, b]\n",
    "\n",
    "a = simular_exercicio_04(state_vector)\n",
    "plot_histogram(a)"
   ]
  },
  {
   "cell_type": "code",
   "execution_count": null,
   "id": "f181249f",
   "metadata": {},
   "outputs": [],
   "source": [
    "# Exercicio 7\n",
    "a = sqrt(1/3)\n",
    "b = sqrt(2/3)\n",
    "\n",
    "state_vector = [a, b]\n",
    "\n",
    "a = simular_exercicio_04(state_vector)\n",
    "plot_histogram(a)"
   ]
  },
  {
   "cell_type": "markdown",
   "id": "b4e00aaa",
   "metadata": {},
   "source": [
    "### A esfera de Bloch\n",
    "A partir de agora, a matemática começou a ficar relativamente mais complexa, então eu vou precisar me esforçar mais um pouco para absorver todo o capítulo. <br>\n",
    "Com um set de operações, podemos obter uma nova representação geral do estado de um qubit, desta vez uma representação que pode ser representada visualmente.\n",
    "<img src=\"sources/bloch_general_representation.png\"><br>\n",
    "Não entendi a matemática por trás desta fórmula de primeira, porém com a ajuda de um <a href=\"https://www.youtube.com/watch?v=a-dIl1Y1aTs&t=9s\">vídeo</a> eu consegui repetir o processo apresentado na documentação no papel.<br><br>\n",
    "Eu achei a matemática por trás da esfera de block relativamente complicada, mas eu compreendi seu funcionamento e agora vou partir para alguns exercícios.<br> <br>\n",
    "Um detalhe importante não citado no livrotexto é que diferentemente da função lá apresentada, a ordem dos parâmetros no qiskit.visualization.plot_bloch_vector() deve ser [Raio, Theta, Phi] e não [Theta, Phi, Raio]\n",
    "\n",
    "\n"
   ]
  },
  {
   "cell_type": "code",
   "execution_count": null,
   "id": "fff6c5a2",
   "metadata": {},
   "outputs": [],
   "source": [
    "def exercicio_08():\n",
    "    estado_0 = [1, 0, 0]\n",
    "    estado_1 = [1, pi, 0]\n",
    "    estado_2 = [1, pi/2, pi/2] # teoricamente eu penso que está certo, 50% 50%\n",
    "    return [estado_0, estado_1, estado_2]\n",
    "\n",
    "plot_bloch_vector(exercicio_08()[0], coord_type='spherical', title=\"Representação 1\") \n",
    "plot_bloch_vector(exercicio_08()[1], coord_type='spherical', title=\"Representação 2\") \n",
    "plot_bloch_vector(exercicio_08()[2], coord_type='spherical', title=\"Representação 3\") "
   ]
  },
  {
   "cell_type": "markdown",
   "id": "64f17285",
   "metadata": {},
   "source": [
    "### Portas quânticas\n",
    "Nesse capítulo serão apresentadas as portas: <br>\n",
    "- Pauli-X\n",
    "- Pauli-Y\n",
    "- Pauli-Z\n",
    "- Hadamard Gate\n",
    "- Porta I\n",
    "- Porta S\n",
    "- Porta T\n",
    "- Porta U"
   ]
  },
  {
   "cell_type": "markdown",
   "id": "1284a2fe",
   "metadata": {},
   "source": [
    "### Portas de Pauli\n",
    "#### Pauli X\n",
    "A porta X pode é representada pela seguinte matriz: \n",
    "<br>\n",
    "<img src=\"sources/pauli_x_matrix.png\">\n",
    "<br>\n",
    "A porta X inverte o sinal do qubit alvo. Podemos utilizar ela com o código abaixo"
   ]
  },
  {
   "cell_type": "code",
   "execution_count": null,
   "id": "d8a20c26",
   "metadata": {},
   "outputs": [],
   "source": [
    "qc = QuantumCircuit(1)\n",
    "qc.x(0)\n",
    "qc.draw(output=\"mpl\")"
   ]
  },
  {
   "cell_type": "markdown",
   "id": "33d5488d",
   "metadata": {},
   "source": [
    "### Visualização da operação realizada pela porta X"
   ]
  },
  {
   "cell_type": "code",
   "execution_count": null,
   "id": "03e0eea4",
   "metadata": {},
   "outputs": [],
   "source": [
    "visualize_transition(qc)"
   ]
  },
  {
   "cell_type": "markdown",
   "id": "fb121099",
   "metadata": {},
   "source": [
    "### Portas Y e Z\n",
    "As portas Y e Z, similarmente a porta X, realizam rotações de valor pi na esfera de bloch, cada porta realizando a rotação no eixo que está em seu nome.\n",
    "<br>\n",
    "<img src=\"sources/portas_y_z.png\">"
   ]
  },
  {
   "cell_type": "code",
   "execution_count": null,
   "id": "01f367ea",
   "metadata": {},
   "outputs": [],
   "source": [
    "qc_y = QuantumCircuit(1)\n",
    "qc_y.y(0)\n",
    "qc_y.draw(output=\"mpl\")"
   ]
  },
  {
   "cell_type": "markdown",
   "id": "994b0b67",
   "metadata": {},
   "source": [
    "### Visualização da operação realizada pela porta Y"
   ]
  },
  {
   "cell_type": "code",
   "execution_count": null,
   "id": "5bc29ebd",
   "metadata": {},
   "outputs": [],
   "source": [
    "visualize_transition(qc_y)"
   ]
  },
  {
   "cell_type": "markdown",
   "id": "6d9866a5",
   "metadata": {},
   "source": [
    "### Visualização do circuito e da operação realizada pela porta Z\n",
    "OBS: A porta Z realiza uma movimentação em seu eixo, logo foi necessário a aplicação de uma porta Hadamar para deixar o vetor em uma posição horizontal, e assim observarmos a movimentação realizada pela porta |"
   ]
  },
  {
   "cell_type": "code",
   "execution_count": null,
   "id": "4c0255d2",
   "metadata": {},
   "outputs": [],
   "source": [
    "qc_z = QuantumCircuit(1)\n",
    "qc_z.h(0)\n",
    "qc_z.z(0)\n",
    "qc_z.draw(output=\"mpl\")"
   ]
  },
  {
   "cell_type": "code",
   "execution_count": null,
   "id": "26ba8bf7",
   "metadata": {},
   "outputs": [],
   "source": [
    "visualize_transition(qc_z)"
   ]
  },
  {
   "cell_type": "markdown",
   "id": "b2afea98",
   "metadata": {},
   "source": [
    "### Eigenvalues\n",
    "Antes de prosseguir com os exercícios desta parte do capítulo, eu precisei estudar os conceitos de \"Eigenvalues\" e \"Eigenstates\", ambos são conceitos essenciais para a mecânica quântica, como podemos ver no terceiro postulado da mecânica quântica, que diz: \n",
    "<br><br>\n",
    "<center> \"O único resultado possível em uma medida de uma quantidade física A é um dos\n",
    "autovalores (eigenvalues) do observável correspondente A\" </center>\n",
    "<br><br>\n",
    "Sim, mas o que isso significa? Para entender o postulado acima, precisamos entender primeiramente o conceito de operador na mecânica quântica. <br>\n",
    "Um operador A é um objeto matemático que exerce influência sob um estado Phi e entrega um resultado Phi'\n",
    "<br>\n",
    "<img src=\"sources/operadores_1.png\">\n",
    "<br>\n",
    "Engenvalues e eigenvectors agem da seguinte maneira:<br>\n",
    "Temos um operador \"A\", que age em um estado especial \"Psi\" de tal maneira que a única mudança realizada pelo operador é igual a uma multiplicação escalar por uma constante, que geralmente é um número complexo.\n",
    "<br>\n",
    "<img src=\"sources/eigenvalue2.png\">\n",
    "<br>\n",
    "Quebrando o que está escrito acima nós obtemos: <br>\n",
    "\n",
    "- |λ> é chamado de <i>eigenstate ou eigenket ou eigenvector</i> do operador A\n",
    "- λ é chamado de <i>eigenvalue</i>\n",
    "- O conjunto de eigenvalues {λ} é chamado de espectro o operador A \n",
    "<br><br>\n",
    "Eigenstates possuem diversas propriedades, merecendo um estudo apropriado na mecânica quântica, mas por agora tal estudo não será necessário nem introduzido pelo livrotexto. <br><br>\n",
    "<img src=\"sources/exercicio_09.png\">\n",
    "<br><br>\n",
    "<center> Estou tendo certa dificuldade em entender o exercício 09, vou pular ele por agora </center>"
   ]
  },
  {
   "cell_type": "markdown",
   "id": "9722b881",
   "metadata": {},
   "source": [
    "### Porta hadamard\n",
    "A porta hadamard é uma das principais portas utilizadas na computação quântica, pois ela permite a criação de estados de superposição. Na esfera de Bloch ela posiciona o vetor entre os polos da esfera.\n",
    "<br>\n",
    "<img src=\"sources/hadamard_gate.png\">\n",
    "<br>\n"
   ]
  },
  {
   "cell_type": "code",
   "execution_count": null,
   "id": "bb81961d",
   "metadata": {},
   "outputs": [],
   "source": [
    "# Aplicação de uma hadamard gate\n",
    "qc_h = QuantumCircuit(1)\n",
    "qc_h.h(0)\n",
    "qc_h.draw(output=\"mpl\")"
   ]
  },
  {
   "cell_type": "code",
   "execution_count": null,
   "id": "01f35bec",
   "metadata": {},
   "outputs": [],
   "source": [
    "visualize_transition(qc_h)"
   ]
  },
  {
   "cell_type": "markdown",
   "id": "d4aa5d64",
   "metadata": {},
   "source": [
    "### Exercício 10, demonstração visual na esfera de bloch"
   ]
  },
  {
   "cell_type": "code",
   "execution_count": null,
   "id": "6762e7ce",
   "metadata": {},
   "outputs": [],
   "source": [
    "# Exercício 10\n",
    "qc_x = QuantumCircuit(1)\n",
    "qc_x.x(0)\n",
    "visualize_transition(qc_x)"
   ]
  },
  {
   "cell_type": "code",
   "execution_count": null,
   "id": "5302ed38",
   "metadata": {},
   "outputs": [],
   "source": [
    "qc_hzh = QuantumCircuit(1)\n",
    "qc_hzh.h(0)\n",
    "qc_hzh.z(0)\n",
    "qc_hzh.h(0)\n",
    "visualize_transition(qc_hzh)"
   ]
  },
  {
   "cell_type": "markdown",
   "id": "69e73f0e",
   "metadata": {},
   "source": [
    "### Exercício 10, demonstração matemática\n",
    "<img src=\"sources/prova_matematica_10.png\">"
   ]
  },
  {
   "cell_type": "markdown",
   "id": "d9cfef5e",
   "metadata": {},
   "source": [
    "### Porta P\n",
    "A porta P realiza uma rotação no eixo Z de acordo com um parâmetro \"ϕ\".\n",
    "<br>\n",
    "<img src=\"sources/p_gate_matrix.png\">\n",
    "<br>\n",
    "Abaixo, podemos ver um exemplo da aplicação da porta P"
   ]
  },
  {
   "cell_type": "code",
   "execution_count": null,
   "id": "ad628505",
   "metadata": {},
   "outputs": [],
   "source": [
    "qc = QuantumCircuit(1, 1)\n",
    "qc.h(0) # Posiciona o vetor de bloch entre os polos |0>, |1> \n",
    "qc.p(pi, 0) # O vetor de bloch irá realizar uma rotação de valor Pi na esfera\n",
    "qc.h(0) # Reposiciona o vetor de bloch em um dos plos da esfera, entregando um resultado semelhante a porta X\n",
    "qc.measure(0, 0)\n",
    "simulador = Aer.get_backend('aer_simulator') # Backend de simulação\n",
    "qobj = assemble(qc)\n",
    "counts = simulador.run(qobj).result().get_counts()\n",
    "plot_histogram(counts)"
   ]
  },
  {
   "cell_type": "code",
   "execution_count": null,
   "id": "bcafddf2",
   "metadata": {},
   "outputs": [],
   "source": [
    "qc.draw(output=\"mpl\")"
   ]
  },
  {
   "cell_type": "markdown",
   "id": "200b05ce",
   "metadata": {},
   "source": [
    "### Portas I, S e T\n",
    "<br>\n",
    "\n",
    "#### Porta I\n",
    "<br>\n",
    "A porta I é uma matriz identidade, ela não faz nada quando utilizada como operador, logo é apenas utilizada matematicamente e como uma operação nula.\n",
    "<br><br>\n",
    "Exercício 11: <br>\n",
    "<img src=\"sources/exercicio11.png\">\n",
    "<br>\n",
    "\n",
    "#### Porta S \n",
    "<br>\n",
    "A porta S age como uma porta P tendo como seu parâmetro \"ϕ\" o valor \"π/2\", logo ao aplica-la como um operador o vetor de bloch realiza 1/4 de volta ao redor da esfera. A porta S tem uma variação \"S†\" que realiza a mesma coisa, porém com sentido contrário já que seu equivalente é uma porta P(−π/2). <br>\n",
    "A porta S também é chamada de \"√Z\", já que quando aplicada duas vezes tem a mesma função que uma porta Z. <br>\n",
    "Abaixo podemos ver essa porta sendo aplicada\n",
    " \n",
    " "
   ]
  },
  {
   "cell_type": "code",
   "execution_count": null,
   "id": "2abe2a2c",
   "metadata": {},
   "outputs": [],
   "source": [
    "qc = QuantumCircuit(1)\n",
    "qc.h(0)\n",
    "qc.s(0)\n",
    "qc.sdg(0)\n",
    "qc.draw(output=\"mpl\")"
   ]
  },
  {
   "cell_type": "code",
   "execution_count": null,
   "id": "6907b1d7",
   "metadata": {},
   "outputs": [],
   "source": [
    "visualize_transition(qc)"
   ]
  },
  {
   "cell_type": "markdown",
   "id": "eda8b4d1",
   "metadata": {},
   "source": [
    "### Porta T\n",
    "A porta T tem seu funcinamento identico ao de uma porta P com seu parâmetro ϕ de valor π/4, logo também sendo chamada de \"4√Z\" <br>\n",
    "<img src=\"sources/t_gate_matrix.png\">\n",
    " <br>\n",
    " Também existe a porta T†, ou \"T-dagger\", que executa a mesma rotação da porta T porém em sentido oposto."
   ]
  },
  {
   "cell_type": "code",
   "execution_count": null,
   "id": "0b110b87",
   "metadata": {},
   "outputs": [],
   "source": [
    "qc = QuantumCircuit(1)\n",
    "qc.h(0)\n",
    "qc.t(0)\n",
    "qc.tdg(0)\n",
    "visualize_transition(qc)"
   ]
  },
  {
   "cell_type": "markdown",
   "id": "02d111a1",
   "metadata": {},
   "source": [
    "### Porta U\n",
    "A porta U é uma porta mais geral que pode executar as funções de todas as outras portas que existem nesse capítulo, mas seu uso não é tão comum pela dificuldade de leitura que ela representa\n",
    "<br>\n",
    "<img src=\"sources/u_gate_matrix.png\">"
   ]
  },
  {
   "cell_type": "code",
   "execution_count": null,
   "id": "7fb25845",
   "metadata": {},
   "outputs": [],
   "source": [
    "qc = QuantumCircuit(1, 1)\n",
    "qc.u(pi/2, 0, pi, 0)\n",
    "qc.measure(0, 0)\n",
    "qobj = assemble(qc)\n",
    "counts = simulador.run(qobj).result().get_counts()\n",
    "qc.draw(output=\"mpl\")"
   ]
  },
  {
   "cell_type": "code",
   "execution_count": null,
   "id": "dd271d65",
   "metadata": {},
   "outputs": [],
   "source": [
    "\n",
    "plot_histogram(counts)"
   ]
  },
  {
   "cell_type": "markdown",
   "id": "e19a9978",
   "metadata": {},
   "source": [
    "#### Aqui se finaliza a primeira parte do livrotexto, criarei outro notebook para o capítulo 2"
   ]
  },
  {
   "cell_type": "code",
   "execution_count": null,
   "id": "01fe4ad0",
   "metadata": {},
   "outputs": [],
   "source": []
  }
 ],
 "metadata": {
  "kernelspec": {
   "display_name": "Python 3 (ipykernel)",
   "language": "python",
   "name": "python3"
  },
  "language_info": {
   "codemirror_mode": {
    "name": "ipython",
    "version": 3
   },
   "file_extension": ".py",
   "mimetype": "text/x-python",
   "name": "python",
   "nbconvert_exporter": "python",
   "pygments_lexer": "ipython3",
   "version": "3.10.8"
  }
 },
 "nbformat": 4,
 "nbformat_minor": 5
}
