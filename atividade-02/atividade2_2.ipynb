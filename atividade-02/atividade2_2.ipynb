{
 "cells": [
  {
   "cell_type": "markdown",
   "id": "5f859594",
   "metadata": {
    "id": "5f859594"
   },
   "source": [
    "## Atividade 2, parte 2\n",
    "### Anotações do capítulo 2 do livrotexto\n",
    "Por se tratar de um capítulo extenso e com boas representações práticas, farei menos anotações em markdown.\n",
    "<br>\n",
    "<br>\n",
    "\n",
    "Para uma representação matemática, operações em multiplos qubits são realizadas por meio de um produto tensorial\n",
    "<img src=\"sources/multiple_qubits.png\">"
   ]
  },
  {
   "cell_type": "code",
   "execution_count": null,
   "id": "2c049947",
   "metadata": {
    "id": "2c049947"
   },
   "outputs": [],
   "source": [
    "from qiskit import QuantumCircuit, Aer, assemble, execute\n",
    "from qiskit.visualization import array_to_latex, plot_histogram, plot_bloch_multivector, visualize_transition\n",
    "from math import pi"
   ]
  },
  {
   "cell_type": "code",
   "execution_count": null,
   "id": "3dc1d07f",
   "metadata": {
    "id": "3dc1d07f",
    "outputId": "a6d61a32-d6b0-414b-f449-326199a03115"
   },
   "outputs": [],
   "source": [
    "# No código, para representar múltiplos qubits apenas precisamos criar eles com a função QuantumCircuit\n",
    "n_qubits = 3\n",
    "qc = QuantumCircuit(n_qubits)\n",
    "for i in range(n_qubits):\n",
    "    qc.h(i)\n",
    "qc.draw(output=\"mpl\")"
   ]
  },
  {
   "cell_type": "code",
   "execution_count": null,
   "id": "22c84810",
   "metadata": {
    "id": "22c84810",
    "outputId": "c5beab86-4cfb-4c1b-d245-0cbbfb7bc3ab"
   },
   "outputs": [],
   "source": [
    "simulador = Aer.get_backend('aer_simulator')\n",
    "qc.save_statevector()\n",
    "qobj = assemble(qc)\n",
    "final_state = simulador.run(qobj).result().get_statevector()\n",
    "array_to_latex(final_state, prefix=\"\\\\text{Statevector} = \")"
   ]
  },
  {
   "cell_type": "markdown",
   "id": "b964137b",
   "metadata": {
    "id": "b964137b"
   },
   "source": [
    "### Exercício 01-A\n",
    "<img src=\"sources/atividade1_a.png\">\n",
    "<br>\n",
    "\n",
    "### Exercício 01-B\n",
    "<img src=\"sources/atividade1_b.png\">\n",
    "<br>\n",
    "\n",
    "### Exercício 01-C e D\n",
    "<img src=\"sources/atividade10_cd.png\">\n",
    "<br>\n",
    "\n",
    "### Exercício 2\n",
    "<img src=\"sources/exercicio2.png\">"
   ]
  },
  {
   "cell_type": "code",
   "execution_count": null,
   "id": "ada2efe8",
   "metadata": {
    "id": "ada2efe8",
    "outputId": "c9416556-b7ef-4fc6-9173-f327a0d9bdc5"
   },
   "outputs": [],
   "source": [
    "# Single qubit states\n",
    "qc = QuantumCircuit(2)\n",
    "qc.h(0)\n",
    "qc.x(1)\n",
    "qc.draw(output=\"mpl\")"
   ]
  },
  {
   "cell_type": "code",
   "execution_count": null,
   "id": "2df0bf32",
   "metadata": {
    "id": "2df0bf32",
    "outputId": "8cdb40b9-6c1c-47e9-b9eb-5009f7e5543e"
   },
   "outputs": [],
   "source": [
    "usim = Aer.get_backend('aer_simulator')\n",
    "qc.save_unitary()\n",
    "qobj = assemble(qc)\n",
    "unitary = usim.run(qobj).result().get_unitary()\n",
    "array_to_latex(unitary, prefix=\"\\\\text{Circuit = }\\n\")"
   ]
  },
  {
   "cell_type": "code",
   "execution_count": null,
   "id": "92dd1714",
   "metadata": {
    "id": "92dd1714",
    "outputId": "6b693360-9c1c-41a9-c286-72919e283562"
   },
   "outputs": [],
   "source": [
    "# Representando uma operação de multiplicação tensorial por uma matriz identidade\n",
    "qc = QuantumCircuit(2)\n",
    "qc.x(1)\n",
    "usim = Aer.get_backend('aer_simulator')\n",
    "qc.save_unitary()\n",
    "qobj = assemble(qc)\n",
    "unitary = usim.run(qobj).result().get_unitary()\n",
    "# Display the results:\n",
    "# Como a matriz identidade performa uma operação nula, ela é executada no caso deste circuito\n",
    "qc.draw(output=\"mpl\")"
   ]
  },
  {
   "cell_type": "code",
   "execution_count": null,
   "id": "f3adccf4",
   "metadata": {
    "id": "f3adccf4",
    "outputId": "ef30166b-a83f-4463-94b8-43dd32f04c1d"
   },
   "outputs": [],
   "source": [
    "array_to_latex(unitary, prefix=\"\\\\text{Circuit = } \")"
   ]
  },
  {
   "cell_type": "markdown",
   "id": "8c5ed26a",
   "metadata": {
    "id": "8c5ed26a"
   },
   "source": [
    "<center>Operação aplicada nas células acima</center>\n",
    "<br>\n",
    "<img src=\"sources/matrizIdentidade.png\">"
   ]
  },
  {
   "cell_type": "code",
   "execution_count": null,
   "id": "30130b93",
   "metadata": {
    "id": "30130b93",
    "outputId": "c619dad3-6376-4b22-d1ce-df0d889e5803"
   },
   "outputs": [],
   "source": [
    "# Atividade 3\n",
    "\n",
    "qc = QuantumCircuit(1)\n",
    "qc.h(0)\n",
    "qc.z(0)\n",
    "qc.x(0)\n",
    "qc.draw(output=\"mpl\")\n",
    "\n",
    "sim = Aer.get_backend('unitary_simulator')\n",
    "result = execute(qc, sim).result()\n",
    "unitary = result.get_unitary()\n",
    "array_to_latex(unitary, prefix=\"\\\\text{Circuit = } \")"
   ]
  },
  {
   "cell_type": "markdown",
   "id": "6c8f7b3a",
   "metadata": {
    "id": "6c8f7b3a"
   },
   "source": [
    "### Portas de múltiplos qubits\n",
    "Existem várias portas que quando aplicadas necessitam de dois qubits, aqui vão alguns exemplos"
   ]
  },
  {
   "cell_type": "code",
   "execution_count": null,
   "id": "b961f386",
   "metadata": {
    "id": "b961f386",
    "outputId": "85ffdd9c-aeee-41fd-fe2b-4a3b519727b8"
   },
   "outputs": [],
   "source": [
    "# A porta controlled-not ou CNOT já foi apresentada antes.\n",
    "\n",
    "qc = QuantumCircuit(2)\n",
    "qc.cx(0,1)\n",
    "qc.draw(output=\"mpl\")"
   ]
  },
  {
   "cell_type": "code",
   "execution_count": null,
   "id": "571ff20e",
   "metadata": {
    "id": "571ff20e",
    "outputId": "702f5eca-5238-4846-bf80-43db6832b085"
   },
   "outputs": [],
   "source": [
    "# Aplicação da porta CNOT\n",
    "qc = QuantumCircuit(2)\n",
    "qc.h(0)\n",
    "\n",
    "qc.cx(0,1)\n",
    "qc.draw(output=\"mpl\")"
   ]
  },
  {
   "cell_type": "code",
   "execution_count": null,
   "id": "5c59a3fb",
   "metadata": {
    "id": "5c59a3fb",
    "outputId": "02f0e4d0-a296-43c2-912a-6ceec2a439f2"
   },
   "outputs": [],
   "source": [
    "sim = Aer.get_backend(\"aer_simulator\")\n",
    "qc.save_statevector()\n",
    "qobj = assemble(qc)\n",
    "result = sim.run(qobj).result()\n",
    "\n",
    "final_state = result.get_statevector()\n",
    "array_to_latex(final_state, prefix=\"\\\\text{Statevector = }\")"
   ]
  },
  {
   "cell_type": "markdown",
   "id": "7c4a324d",
   "metadata": {
    "id": "7c4a324d"
   },
   "source": [
    "<center> Operação realizada acima </center>\n",
    "<br>\n",
    "<img src=\"sources/entangled_state-1.png\">\n",
    "<br>\n",
    "Esta operação é deveras especial visto que pela primeira vez nestas anotações há a presença de um estado <i>emaranhado</i> <br>\n",
    "<img src=\"sources/bell_state.png\"><br>\n",
    "No código das células acima acima foi criado um estado de Bell, ou <i>Bell state</i> neste exemplo há 50% de chance do qubit ser medido como |11> e 50% de chances de ser medido |00>, porém 0% de chance de ser medido como |01> ou |10>. Como pode-se ver no histograma abaixo <br>\n"
   ]
  },
  {
   "cell_type": "code",
   "execution_count": null,
   "id": "f8d18823",
   "metadata": {
    "id": "f8d18823",
    "outputId": "9cd8a0f8-4b40-47c9-bbe6-f1f333fe24da"
   },
   "outputs": [],
   "source": [
    "plot_histogram(result.get_counts())"
   ]
  },
  {
   "cell_type": "code",
   "execution_count": null,
   "id": "67a30dae",
   "metadata": {
    "id": "67a30dae",
    "outputId": "4fe05f06-82a0-4f93-8097-e9feb79727c3"
   },
   "outputs": [],
   "source": [
    "# Colocando mais qubits em superposição\n",
    "\n",
    "qc = QuantumCircuit(2)\n",
    "qc.h(0)\n",
    "qc.h(1)\n",
    "qc.cx(0,1)\n",
    "display(qc.draw(output=\"mpl\"))\n",
    "\n",
    "svsim = Aer.get_backend('aer_simulator')\n",
    "qc.save_statevector()\n",
    "qobj = assemble(qc)\n",
    "counts = svsim.run(qobj).result().get_counts()\n",
    "final_state = svsim.run(qobj).result().get_statevector()\n",
    "display(array_to_latex(final_state, prefix=\"\\\\text{Statevector} = \"))\n",
    "display(plot_histogram(counts))\n",
    "\n",
    "# Já que a CNOT troca a amplitude de |01> para a amplitude de |11> e ambas são iguais a 1/2, nada muda"
   ]
  },
  {
   "cell_type": "code",
   "execution_count": null,
   "id": "c180f08d",
   "metadata": {
    "id": "c180f08d",
    "outputId": "9bac78c8-732e-4899-cc61-8021379495aa"
   },
   "outputs": [],
   "source": [
    "# Agora, vamos testar com um qubit no estado |->\n",
    "qc = QuantumCircuit(2)\n",
    "qc.h(0)\n",
    "qc.x(1)\n",
    "qc.h(1)\n",
    "qc.cx(0,1)\n",
    "\n",
    "display(qc.draw(output=\"mpl\"))\n",
    "\n",
    "qc1 = qc.copy()\n",
    "qc1.save_statevector()\n",
    "final_state = svsim.run(qc1).result().get_statevector()\n",
    "counts = svsim.run(qc1).result().get_counts()\n",
    "display(array_to_latex(final_state, prefix=\"\\\\text{Statevector} = \"))\n",
    "display(plot_bloch_multivector(final_state))\n",
    "display(plot_histogram(counts))\n",
    "\n",
    "#Podemos ver que neste caso, a CNOT altera apenas o qubit controle, e não o alvo, indo contra seu comportamento padrão"
   ]
  },
  {
   "cell_type": "code",
   "execution_count": null,
   "id": "db204096",
   "metadata": {
    "id": "db204096",
    "outputId": "fc455c4e-56f0-40d4-b4f5-06ae767bbfbf"
   },
   "outputs": [],
   "source": [
    "qc = QuantumCircuit(2)\n",
    "qc.h(0)\n",
    "qc.h(1)\n",
    "qc.cx(0,1)\n",
    "qc.h(0)\n",
    "qc.h(1)\n",
    "display(qc.draw(output=\"mpl\")) \n",
    "\n",
    "qc.save_unitary()\n",
    "usim = Aer.get_backend('aer_simulator')\n",
    "qobj = assemble(qc)\n",
    "unitary = usim.run(qobj).result().get_unitary()\n",
    "array_to_latex(unitary, prefix=\"\\\\text{Circuit = }\\n\")"
   ]
  },
  {
   "cell_type": "code",
   "execution_count": null,
   "id": "3de13de3",
   "metadata": {
    "id": "3de13de3",
    "outputId": "d4e4072a-209b-4a05-b0fa-9196fcf0542a"
   },
   "outputs": [],
   "source": [
    "qc = QuantumCircuit(2)\n",
    "qc.cx(1,0)\n",
    "display(qc.draw(output=\"mpl\"))\n",
    "qc.save_unitary()\n",
    "\n",
    "qobj = assemble(qc)\n",
    "unitary = usim.run(qobj).result().get_unitary()\n",
    "array_to_latex(unitary, prefix=\"\\\\text{Circuit = }\\n\")"
   ]
  },
  {
   "cell_type": "markdown",
   "id": "b15e8ad5",
   "metadata": {
    "id": "b15e8ad5"
   },
   "source": [
    "#### Observe que no exemplo acima, as duas matrizes são equivalentes, isto ocorre devido a algo chamado de \"phase kickback\"\n",
    "De todos os conceitos que o livrotexto apresentou até agora, este é sem dúvida o mais confuso. <br>\n",
    "Irei prosseguir mesmo não tendo entendido muito bem, isto na esperança de entender com futuros exemplos"
   ]
  },
  {
   "cell_type": "code",
   "execution_count": null,
   "id": "d80828e9",
   "metadata": {
    "id": "d80828e9",
    "outputId": "4c333911-1d0f-4888-cb3a-76c22f9d0e15"
   },
   "outputs": [],
   "source": [
    "# porta controlled-T\n",
    "qc = QuantumCircuit(2)\n",
    "qc.cp(pi/4, 0, 1)\n",
    "qc.draw(output=\"mpl\")"
   ]
  },
  {
   "cell_type": "markdown",
   "id": "02e14197",
   "metadata": {
    "id": "02e14197"
   },
   "source": [
    "A porta T e a controlled-t possuem as seguintes matrizes \n",
    "<br>\n",
    "<img src=\"sources/controlled_t.png\">\n",
    "<br>\n",
    "Como podemos ver no circuito abaixo:"
   ]
  },
  {
   "cell_type": "code",
   "execution_count": null,
   "id": "c0799386",
   "metadata": {
    "id": "c0799386",
    "outputId": "40fbd93d-7a12-4515-ccf8-a94df5709cc5"
   },
   "outputs": [],
   "source": [
    "qc = QuantumCircuit(2)\n",
    "qc.cp(pi/4, 0, 1)\n",
    "display(qc.draw(output=\"mpl\"))\n",
    "# See Results:\n",
    "qc.save_unitary()\n",
    "qobj = assemble(qc)\n",
    "unitary = usim.run(qobj).result().get_unitary()\n",
    "array_to_latex(unitary, prefix=\"\\\\text{Controlled-T} = \\n\")"
   ]
  },
  {
   "cell_type": "markdown",
   "id": "e51e021c",
   "metadata": {
    "id": "e51e021c"
   },
   "source": [
    "<img src=\"sources/t_gate_1.png\">"
   ]
  },
  {
   "cell_type": "markdown",
   "id": "2741c42d",
   "metadata": {
    "id": "2741c42d"
   },
   "source": [
    "### Sinceramente, não consegui entender muito bem o conceito de Phase Kickback pelo livrotexto, levar esta dúvida ao professor"
   ]
  },
  {
   "cell_type": "markdown",
   "id": "fed39741",
   "metadata": {
    "id": "fed39741"
   },
   "source": [
    "#### Porta controle-z\n",
    "Da mesma maneira que a porta controle-X aplica uma porta/operação X (NOT) quando o qubit controle está no estado |1>, a porta controle-Z aplica uma operação Z quando o qubit se encontra no mesmo estado. <br>\n",
    "<br>\n",
    "Lembrando que a porta Z realiza uma rotação de pi graus no eixo Z da esfera de bloch."
   ]
  },
  {
   "cell_type": "code",
   "execution_count": null,
   "id": "0d0467a0",
   "metadata": {
    "id": "0d0467a0",
    "outputId": "bc049993-399a-415a-bb56-1b72d10fe805"
   },
   "outputs": [],
   "source": [
    "qc_cz = QuantumCircuit(2)\n",
    "qc_cz.cz(0, 1)\n",
    "qc_cz.draw(output=\"mpl\")"
   ]
  },
  {
   "cell_type": "code",
   "execution_count": null,
   "id": "b1c517d3",
   "metadata": {
    "id": "b1c517d3"
   },
   "outputs": [],
   "source": [
    "# A porta Z não pode ser executada por exemplo nos computadores IBM-Q, e em vários outros\n",
    "# Então surge a necessidade de reproduzir o seu efeito com portas diferentes"
   ]
  },
  {
   "cell_type": "markdown",
   "id": "167ac25a",
   "metadata": {
    "id": "167ac25a"
   },
   "source": [
    "#### A partir daqui, se mostra essencial o conceito de kickback.\n",
    "<br>\n",
    "\n",
    "##### Eu até que consigo refazer e entender os circuitos e como eles estão tratando seus inputs, mas não estou entendendo como a informação está navegando entre as portas.\n",
    "<br>\n",
    "\n",
    "##### Sinto que seria mais produtivo tirar minhas dúvidas com o professor e depois prosseguir ao final do livrotexto, com um sólido entendimento das portas quânticas os próximos 2 capítulos (que tratam de algoritmos) serão muito melhor aproveitados."
   ]
  },
  {
   "cell_type": "code",
   "execution_count": null,
   "id": "723a02c3",
   "metadata": {
    "id": "723a02c3"
   },
   "outputs": [],
   "source": []
  }
 ],
 "metadata": {
  "colab": {
   "provenance": []
  },
  "kernelspec": {
   "display_name": "Python 3 (ipykernel)",
   "language": "python",
   "name": "python3"
  },
  "language_info": {
   "codemirror_mode": {
    "name": "ipython",
    "version": 3
   },
   "file_extension": ".py",
   "mimetype": "text/x-python",
   "name": "python",
   "nbconvert_exporter": "python",
   "pygments_lexer": "ipython3",
   "version": "3.10.8"
  }
 },
 "nbformat": 4,
 "nbformat_minor": 5
}
