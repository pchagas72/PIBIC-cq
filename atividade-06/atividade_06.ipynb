{
  "cells": [
    {
      "cell_type": "code",
      "source": [
        "%pip install numpy\n",
        "%pip install qiskit\n",
        "%pip install pylatexenc"
      ],
      "metadata": {
        "colab": {
          "base_uri": "https://localhost:8080/"
        },
        "id": "fQVT13fUPxKs",
        "outputId": "3cff7f87-69f7-4f9a-eb49-985b0023d0fb"
      },
      "id": "fQVT13fUPxKs",
      "execution_count": null,
      "outputs": [
        {
          "output_type": "stream",
          "name": "stdout",
          "text": [
            "Requirement already satisfied: numpy in /usr/local/lib/python3.10/dist-packages (1.22.4)\n",
            "Collecting qiskit\n",
            "  Downloading qiskit-0.43.2.tar.gz (9.1 kB)\n",
            "  Installing build dependencies ... \u001b[?25l\u001b[?25hdone\n",
            "  Getting requirements to build wheel ... \u001b[?25l\u001b[?25hdone\n",
            "  Installing backend dependencies ... \u001b[?25l\u001b[?25hdone\n",
            "  Preparing metadata (pyproject.toml) ... \u001b[?25l\u001b[?25hdone\n",
            "Collecting qiskit-terra==0.24.1 (from qiskit)\n",
            "  Downloading qiskit_terra-0.24.1-cp310-cp310-manylinux_2_17_x86_64.manylinux2014_x86_64.whl (5.9 MB)\n",
            "\u001b[2K     \u001b[90m━━━━━━━━━━━━━━━━━━━━━━━━━━━━━━━━━━━━━━━━\u001b[0m \u001b[32m5.9/5.9 MB\u001b[0m \u001b[31m61.0 MB/s\u001b[0m eta \u001b[36m0:00:00\u001b[0m\n",
            "\u001b[?25hCollecting qiskit-aer==0.12.1 (from qiskit)\n",
            "  Downloading qiskit_aer-0.12.1-cp310-cp310-manylinux_2_17_x86_64.manylinux2014_x86_64.whl (12.8 MB)\n",
            "\u001b[2K     \u001b[90m━━━━━━━━━━━━━━━━━━━━━━━━━━━━━━━━━━━━━━━━\u001b[0m \u001b[32m12.8/12.8 MB\u001b[0m \u001b[31m64.7 MB/s\u001b[0m eta \u001b[36m0:00:00\u001b[0m\n",
            "\u001b[?25hCollecting qiskit-ibmq-provider==0.20.2 (from qiskit)\n",
            "  Downloading qiskit_ibmq_provider-0.20.2-py3-none-any.whl (241 kB)\n",
            "\u001b[2K     \u001b[90m━━━━━━━━━━━━━━━━━━━━━━━━━━━━━━━━━━━━━━\u001b[0m \u001b[32m241.5/241.5 kB\u001b[0m \u001b[31m25.6 MB/s\u001b[0m eta \u001b[36m0:00:00\u001b[0m\n",
            "\u001b[?25hRequirement already satisfied: numpy>=1.16.3 in /usr/local/lib/python3.10/dist-packages (from qiskit-aer==0.12.1->qiskit) (1.22.4)\n",
            "Requirement already satisfied: scipy>=1.0 in /usr/local/lib/python3.10/dist-packages (from qiskit-aer==0.12.1->qiskit) (1.10.1)\n",
            "Requirement already satisfied: requests>=2.19 in /usr/local/lib/python3.10/dist-packages (from qiskit-ibmq-provider==0.20.2->qiskit) (2.27.1)\n",
            "Collecting requests-ntlm<=1.1.0 (from qiskit-ibmq-provider==0.20.2->qiskit)\n",
            "  Downloading requests_ntlm-1.1.0-py2.py3-none-any.whl (5.7 kB)\n",
            "Requirement already satisfied: urllib3>=1.21.1 in /usr/local/lib/python3.10/dist-packages (from qiskit-ibmq-provider==0.20.2->qiskit) (1.26.16)\n",
            "Requirement already satisfied: python-dateutil>=2.8.0 in /usr/local/lib/python3.10/dist-packages (from qiskit-ibmq-provider==0.20.2->qiskit) (2.8.2)\n",
            "Requirement already satisfied: websocket-client>=1.5.1 in /usr/local/lib/python3.10/dist-packages (from qiskit-ibmq-provider==0.20.2->qiskit) (1.6.1)\n",
            "Collecting websockets>=10.0 (from qiskit-ibmq-provider==0.20.2->qiskit)\n",
            "  Downloading websockets-11.0.3-cp310-cp310-manylinux_2_5_x86_64.manylinux1_x86_64.manylinux_2_17_x86_64.manylinux2014_x86_64.whl (129 kB)\n",
            "\u001b[2K     \u001b[90m━━━━━━━━━━━━━━━━━━━━━━━━━━━━━━━━━━━━━━\u001b[0m \u001b[32m129.9/129.9 kB\u001b[0m \u001b[31m14.6 MB/s\u001b[0m eta \u001b[36m0:00:00\u001b[0m\n",
            "\u001b[?25hCollecting rustworkx>=0.12.0 (from qiskit-terra==0.24.1->qiskit)\n",
            "  Downloading rustworkx-0.13.0-cp310-cp310-manylinux_2_17_x86_64.manylinux2014_x86_64.whl (1.9 MB)\n",
            "\u001b[2K     \u001b[90m━━━━━━━━━━━━━━━━━━━━━━━━━━━━━━━━━━━━━━━━\u001b[0m \u001b[32m1.9/1.9 MB\u001b[0m \u001b[31m54.4 MB/s\u001b[0m eta \u001b[36m0:00:00\u001b[0m\n",
            "\u001b[?25hCollecting ply>=3.10 (from qiskit-terra==0.24.1->qiskit)\n",
            "  Downloading ply-3.11-py2.py3-none-any.whl (49 kB)\n",
            "\u001b[2K     \u001b[90m━━━━━━━━━━━━━━━━━━━━━━━━━━━━━━━━━━━━━━━━\u001b[0m \u001b[32m49.6/49.6 kB\u001b[0m \u001b[31m5.4 MB/s\u001b[0m eta \u001b[36m0:00:00\u001b[0m\n",
            "\u001b[?25hRequirement already satisfied: psutil>=5 in /usr/local/lib/python3.10/dist-packages (from qiskit-terra==0.24.1->qiskit) (5.9.5)\n",
            "Requirement already satisfied: sympy>=1.3 in /usr/local/lib/python3.10/dist-packages (from qiskit-terra==0.24.1->qiskit) (1.11.1)\n",
            "Collecting dill>=0.3 (from qiskit-terra==0.24.1->qiskit)\n",
            "  Downloading dill-0.3.6-py3-none-any.whl (110 kB)\n",
            "\u001b[2K     \u001b[90m━━━━━━━━━━━━━━━━━━━━━━━━━━━━━━━━━━━━━━\u001b[0m \u001b[32m110.5/110.5 kB\u001b[0m \u001b[31m12.7 MB/s\u001b[0m eta \u001b[36m0:00:00\u001b[0m\n",
            "\u001b[?25hCollecting stevedore>=3.0.0 (from qiskit-terra==0.24.1->qiskit)\n",
            "  Downloading stevedore-5.1.0-py3-none-any.whl (49 kB)\n",
            "\u001b[2K     \u001b[90m━━━━━━━━━━━━━━━━━━━━━━━━━━━━━━━━━━━━━━━━\u001b[0m \u001b[32m49.6/49.6 kB\u001b[0m \u001b[31m5.4 MB/s\u001b[0m eta \u001b[36m0:00:00\u001b[0m\n",
            "\u001b[?25hCollecting symengine<0.10,>=0.9 (from qiskit-terra==0.24.1->qiskit)\n",
            "  Downloading symengine-0.9.2-cp310-cp310-manylinux2010_x86_64.whl (37.5 MB)\n",
            "\u001b[2K     \u001b[90m━━━━━━━━━━━━━━━━━━━━━━━━━━━━━━━━━━━━━━━━\u001b[0m \u001b[32m37.5/37.5 MB\u001b[0m \u001b[31m13.9 MB/s\u001b[0m eta \u001b[36m0:00:00\u001b[0m\n",
            "\u001b[?25hRequirement already satisfied: six>=1.5 in /usr/local/lib/python3.10/dist-packages (from python-dateutil>=2.8.0->qiskit-ibmq-provider==0.20.2->qiskit) (1.16.0)\n",
            "Requirement already satisfied: certifi>=2017.4.17 in /usr/local/lib/python3.10/dist-packages (from requests>=2.19->qiskit-ibmq-provider==0.20.2->qiskit) (2023.5.7)\n",
            "Requirement already satisfied: charset-normalizer~=2.0.0 in /usr/local/lib/python3.10/dist-packages (from requests>=2.19->qiskit-ibmq-provider==0.20.2->qiskit) (2.0.12)\n",
            "Requirement already satisfied: idna<4,>=2.5 in /usr/local/lib/python3.10/dist-packages (from requests>=2.19->qiskit-ibmq-provider==0.20.2->qiskit) (3.4)\n",
            "Collecting ntlm-auth>=1.0.2 (from requests-ntlm<=1.1.0->qiskit-ibmq-provider==0.20.2->qiskit)\n",
            "  Downloading ntlm_auth-1.5.0-py2.py3-none-any.whl (29 kB)\n",
            "Collecting cryptography>=1.3 (from requests-ntlm<=1.1.0->qiskit-ibmq-provider==0.20.2->qiskit)\n",
            "  Downloading cryptography-41.0.2-cp37-abi3-manylinux_2_28_x86_64.whl (4.3 MB)\n",
            "\u001b[2K     \u001b[90m━━━━━━━━━━━━━━━━━━━━━━━━━━━━━━━━━━━━━━━━\u001b[0m \u001b[32m4.3/4.3 MB\u001b[0m \u001b[31m82.9 MB/s\u001b[0m eta \u001b[36m0:00:00\u001b[0m\n",
            "\u001b[?25hCollecting pbr!=2.1.0,>=2.0.0 (from stevedore>=3.0.0->qiskit-terra==0.24.1->qiskit)\n",
            "  Downloading pbr-5.11.1-py2.py3-none-any.whl (112 kB)\n",
            "\u001b[2K     \u001b[90m━━━━━━━━━━━━━━━━━━━━━━━━━━━━━━━━━━━━━━\u001b[0m \u001b[32m112.7/112.7 kB\u001b[0m \u001b[31m13.6 MB/s\u001b[0m eta \u001b[36m0:00:00\u001b[0m\n",
            "\u001b[?25hRequirement already satisfied: mpmath>=0.19 in /usr/local/lib/python3.10/dist-packages (from sympy>=1.3->qiskit-terra==0.24.1->qiskit) (1.3.0)\n",
            "Requirement already satisfied: cffi>=1.12 in /usr/local/lib/python3.10/dist-packages (from cryptography>=1.3->requests-ntlm<=1.1.0->qiskit-ibmq-provider==0.20.2->qiskit) (1.15.1)\n",
            "Requirement already satisfied: pycparser in /usr/local/lib/python3.10/dist-packages (from cffi>=1.12->cryptography>=1.3->requests-ntlm<=1.1.0->qiskit-ibmq-provider==0.20.2->qiskit) (2.21)\n",
            "Building wheels for collected packages: qiskit\n",
            "  Building wheel for qiskit (pyproject.toml) ... \u001b[?25l\u001b[?25hdone\n",
            "  Created wheel for qiskit: filename=qiskit-0.43.2-py3-none-any.whl size=7640 sha256=8b7c5ff0b84e90b2003251ecbf8ff0acb19e34cc4747908482912ff56ca43397\n",
            "  Stored in directory: /root/.cache/pip/wheels/d4/ad/4f/f54eb8743e54c5bab69837b842cf56a8a87ac7c57a2abf85ad\n",
            "Successfully built qiskit\n",
            "Installing collected packages: ply, websockets, symengine, rustworkx, pbr, ntlm-auth, dill, stevedore, cryptography, requests-ntlm, qiskit-terra, qiskit-ibmq-provider, qiskit-aer, qiskit\n",
            "Successfully installed cryptography-41.0.2 dill-0.3.6 ntlm-auth-1.5.0 pbr-5.11.1 ply-3.11 qiskit-0.43.2 qiskit-aer-0.12.1 qiskit-ibmq-provider-0.20.2 qiskit-terra-0.24.1 requests-ntlm-1.1.0 rustworkx-0.13.0 stevedore-5.1.0 symengine-0.9.2 websockets-11.0.3\n",
            "Collecting pylatexenc\n",
            "  Downloading pylatexenc-2.10.tar.gz (162 kB)\n",
            "\u001b[2K     \u001b[90m━━━━━━━━━━━━━━━━━━━━━━━━━━━━━━━━━━━━━━\u001b[0m \u001b[32m162.6/162.6 kB\u001b[0m \u001b[31m11.1 MB/s\u001b[0m eta \u001b[36m0:00:00\u001b[0m\n",
            "\u001b[?25h  Preparing metadata (setup.py) ... \u001b[?25l\u001b[?25hdone\n",
            "Building wheels for collected packages: pylatexenc\n",
            "  Building wheel for pylatexenc (setup.py) ... \u001b[?25l\u001b[?25hdone\n",
            "  Created wheel for pylatexenc: filename=pylatexenc-2.10-py3-none-any.whl size=136820 sha256=06f1149336dc0a0c5716df8ddce2a7c372f866fc37343aee5dd9aa118c6ae856\n",
            "  Stored in directory: /root/.cache/pip/wheels/d3/31/8b/e09b0386afd80cfc556c00408c9aeea5c35c4d484a9c762fd5\n",
            "Successfully built pylatexenc\n",
            "Installing collected packages: pylatexenc\n",
            "Successfully installed pylatexenc-2.10\n"
          ]
        }
      ]
    },
    {
      "cell_type": "code",
      "execution_count": null,
      "id": "e4a4e425",
      "metadata": {
        "id": "e4a4e425"
      },
      "outputs": [],
      "source": [
        "import numpy as np\n",
        "from math import pi, e\n",
        "import cmath\n",
        "from sklearn.datasets import load_iris\n",
        "from sklearn.preprocessing import MinMaxScaler\n",
        "import qiskit\n",
        "from qiskit.visualization import plot_histogram\n",
        "from matplotlib import pyplot as plt"
      ]
    },
    {
      "cell_type": "code",
      "execution_count": null,
      "id": "859d4c04",
      "metadata": {
        "id": "859d4c04"
      },
      "outputs": [],
      "source": [
        "class QuantumCircuitModel():\n",
        "    def __init__(self):\n",
        "        self.circuit = qiskit.QuantumCircuit(3, 1)\n",
        "        # Creating parameters\n",
        "        self.params = [\n",
        "            qiskit.circuit.Parameter('theta1'),\n",
        "            qiskit.circuit.Parameter('theta2'),\n",
        "            qiskit.circuit.Parameter('theta3'),\n",
        "            qiskit.circuit.Parameter('theta4'),\n",
        "            qiskit.circuit.Parameter('phi1'),\n",
        "            qiskit.circuit.Parameter('phi2'),\n",
        "            qiskit.circuit.Parameter('phi3'),\n",
        "            qiskit.circuit.Parameter('phi4'),\n",
        "        ]\n",
        "        # First part of the circuit (input handling)\n",
        "        self.circuit.h([0,1])\n",
        "\n",
        "        self.circuit.x([0,1])\n",
        "        self.circuit.cp(self.params[0], [0], 1)\n",
        "        self.circuit.x([0,1])\n",
        "\n",
        "        self.circuit.x(0)\n",
        "        self.circuit.cp(self.params[1], [0], 1)\n",
        "        self.circuit.x(0)\n",
        "        self.circuit.x(1)\n",
        "        self.circuit.cp(self.params[2], [0], 1)\n",
        "        self.circuit.x(1)\n",
        "        self.circuit.cp(self.params[3], [0], 1)\n",
        "\n",
        "        self.circuit.barrier()\n",
        "\n",
        "        # Second part of the circuit (apply weights)\n",
        "\n",
        "\n",
        "        self.circuit.x([0,1])\n",
        "        self.circuit.cp(-self.params[4], [0], 1)\n",
        "        self.circuit.x([0,1])\n",
        "\n",
        "        self.circuit.x(0)\n",
        "        self.circuit.cp(-self.params[5], [0], 1)\n",
        "        self.circuit.x(0)\n",
        "        self.circuit.x(1)\n",
        "        self.circuit.cp(-self.params[6], [0], 1)\n",
        "        self.circuit.x(1)\n",
        "        self.circuit.cp(-self.params[7], [0], 1)\n",
        "\n",
        "\n",
        "        self.circuit.h([0,1])\n",
        "        self.circuit.x([0,1])\n",
        "\n",
        "        self.circuit.ccx(0,1,2)\n",
        "        self.circuit.measure(2, 0)"
      ]
    },
    {
      "cell_type": "code",
      "execution_count": null,
      "id": "53d2f335",
      "metadata": {
        "id": "53d2f335"
      },
      "outputs": [],
      "source": [
        "import pandas as pd\n",
        "from sklearn.model_selection import train_test_split\n",
        "from sklearn.preprocessing import MinMaxScaler\n",
        "\n",
        "def load_and_split_iris() -> tuple[pd.core.frame.DataFrame]:\n",
        "    iris_dataset = load_iris()\n",
        "    iris_dataset_pandas = pd.DataFrame(iris_dataset.data, columns=iris_dataset.feature_names)\n",
        "    iris_dataset_pandas['target'] = iris_dataset.target\n",
        "\n",
        "    train, test = train_test_split(iris_dataset_pandas, test_size=0.3)\n",
        "\n",
        "    return (train, test)\n",
        "\n",
        "def normalize_dataset(\n",
        "    dataset: pd.core.frame.DataFrame\n",
        ") -> pd.core.frame.DataFrame:\n",
        "    min_max_scaler = MinMaxScaler((0, pi/2))\n",
        "    dataset.iloc[:, [0, 1, 2, 3]] = min_max_scaler.fit_transform(dataset.iloc[:, [0, 1, 2, 3]])\n",
        "    # Normalize values between 0 and 1\n",
        "    return dataset\n",
        "\n",
        "train, test = load_and_split_iris()\n",
        "\n",
        "train_normalized = normalize_dataset(train)\n",
        "test_normlized = normalize_dataset(test)"
      ]
    },
    {
      "cell_type": "code",
      "execution_count": null,
      "id": "8cd05d48",
      "metadata": {
        "colab": {
          "base_uri": "https://localhost:8080/"
        },
        "id": "8cd05d48",
        "outputId": "2f4950df-6e70-48de-873b-f0681377f77b"
      },
      "outputs": [
        {
          "output_type": "execute_result",
          "data": {
            "text/plain": [
              "([0.30887927770588736,\n",
              "  0.8486380155151646,\n",
              "  0.12170818996958038,\n",
              "  0.09910976823824941],\n",
              " [0.7533149050887292,\n",
              "  0.39468241039417207,\n",
              "  0.8748832648768186,\n",
              "  0.7944884199182523],\n",
              " [0.7533149050887292,\n",
              "  0.39468241039417207,\n",
              "  0.8748832648768186,\n",
              "  0.7944884199182523])"
            ]
          },
          "metadata": {},
          "execution_count": 20
        }
      ],
      "source": [
        "def split_iris_in_classes(\n",
        "    dataset: pd.core.frame.DataFrame\n",
        ") -> tuple[np.ndarray]:\n",
        "    dataset_np = dataset.to_numpy()\n",
        "    class_1 = dataset_np[dataset_np[:,4]==0.]\n",
        "    class_2 = dataset_np[dataset_np[:,4]==1.]\n",
        "    class_3 = dataset_np[dataset_np[:,4]==2.]\n",
        "\n",
        "    return class_1, class_2, class_2\n",
        "\n",
        "class_1, class_2, class_3 = split_iris_in_classes(train)\n",
        "\n",
        "class_1_weights = []\n",
        "class_2_weights = []\n",
        "class_3_weights = []\n",
        "\n",
        "for w in range(4):\n",
        "    class_1_weights.append(sum(class_1[:,w])/len(class_1[:,w]))\n",
        "    class_2_weights.append(sum(class_2[:,w])/len(class_2[:,w]))\n",
        "    class_3_weights.append(sum(class_3[:,w])/len(class_3[:,w]))\n",
        "\n",
        "def return_theta_values(\n",
        "    input_vector: list[float]\n",
        "    ) -> tuple[float]:\n",
        "    value_theta1 = input_vector[1] - input_vector[0]\n",
        "    value_theta2 = input_vector[2] - input_vector[0]\n",
        "    value_theta3 = input_vector[3] - input_vector[0]\n",
        "    return (value_theta1,\n",
        "            value_theta2,\n",
        "            value_theta3)\n",
        "\n",
        "class_1_weights, class_2_weights, class_3_weights"
      ]
    },
    {
      "cell_type": "code",
      "execution_count": null,
      "id": "552ac589",
      "metadata": {
        "colab": {
          "base_uri": "https://localhost:8080/",
          "height": 381
        },
        "id": "552ac589",
        "outputId": "7c1b4736-8ec4-4518-81d3-495f8eced7f6"
      },
      "outputs": [
        {
          "output_type": "display_data",
          "data": {
            "text/plain": [
              "<Figure size 2210.55x785.944 with 1 Axes>"
            ],
            "image/png": "[encoded data removed]"
          },
          "metadata": {}
        }
      ],
      "source": [
        "neuron = QuantumCircuitModel().circuit; display(neuron.draw(output='mpl'))"
      ]
    },
    {
      "cell_type": "code",
      "execution_count": null,
      "id": "7ff5482b",
      "metadata": {
        "id": "7ff5482b"
      },
      "outputs": [],
      "source": [
        "def run_neuron(\n",
        "    input_vector: list[float],\n",
        "    weight_vector: list[float]\n",
        ") -> float:\n",
        "    # Create neuron\n",
        "    neuron = QuantumCircuitModel()\n",
        "    backend = qiskit.Aer.get_backend('aer_simulator')\n",
        "\n",
        "    # Apply input and weight parameters\n",
        "    bound_neuron = neuron.circuit.bind_parameters({\n",
        "        neuron.params[0]: input_vector[0],\n",
        "        neuron.params[1]: input_vector[1],\n",
        "        neuron.params[2]: input_vector[2],\n",
        "        neuron.params[3]: weight_vector[0],\n",
        "        neuron.params[4]: weight_vector[1],\n",
        "        neuron.params[5]: weight_vector[2],\n",
        "    })\n",
        "\n",
        "    neuron_transpiled = qiskit.transpile(bound_neuron, backend)\n",
        "\n",
        "    result = backend.run(neuron_transpiled, shots=5000).result()\n",
        "    counts = result.get_counts()\n",
        "\n",
        "    return counts['1']/5000\n",
        "\n",
        "def run_neuron_on_dataset(\n",
        "    input_matrix: np.ndarray,\n",
        "    weight_vectors: list[list[float]]\n",
        ") -> list[float]:\n",
        "    predictions = []\n",
        "    for input_vector in input_matrix:\n",
        "        expected_class = int(input_vector[4])\n",
        "        input_vector = list(input_vector)[0:4]\n",
        "        theta1, theta2, theta3 = return_theta_values(input_vector)\n",
        "        results = []\n",
        "        for weight_vector in weight_vectors:\n",
        "            results.append(run_neuron(\n",
        "                [theta1, theta2, theta3],\n",
        "                weight_vector))\n",
        "        predictions.append(\n",
        "            (np.argmax(results), expected_class)\n",
        "        )\n",
        "\n",
        "    return predictions"
      ]
    },
    {
      "cell_type": "code",
      "execution_count": null,
      "id": "WGpjBhFI045X",
      "metadata": {
        "id": "WGpjBhFI045X",
        "colab": {
          "base_uri": "https://localhost:8080/",
          "height": 405
        },
        "outputId": "a89a3bde-5e50-4875-da33-7cd83f5dfe1f"
      },
      "outputs": [
        {
          "output_type": "error",
          "ename": "AerError",
          "evalue": "ignored",
          "traceback": [
            "\u001b[0;31m---------------------------------------------------------------------------\u001b[0m",
            "\u001b[0;31mAerError\u001b[0m                                  Traceback (most recent call last)",
            "\u001b[0;32m<ipython-input-26-bb39eecfaa9d>\u001b[0m in \u001b[0;36m<cell line: 2>\u001b[0;34m()\u001b[0m\n\u001b[1;32m      1\u001b[0m \u001b[0mall_weights\u001b[0m \u001b[0;34m=\u001b[0m \u001b[0;34m[\u001b[0m\u001b[0mclass_1_weights\u001b[0m\u001b[0;34m,\u001b[0m \u001b[0mclass_2_weights\u001b[0m\u001b[0;34m,\u001b[0m \u001b[0mclass_3_weights\u001b[0m\u001b[0;34m]\u001b[0m\u001b[0;34m\u001b[0m\u001b[0;34m\u001b[0m\u001b[0m\n\u001b[0;32m----> 2\u001b[0;31m \u001b[0mpredictions\u001b[0m \u001b[0;34m=\u001b[0m \u001b[0mrun_neuron_on_dataset\u001b[0m\u001b[0;34m(\u001b[0m\u001b[0mtest\u001b[0m\u001b[0;34m.\u001b[0m\u001b[0mto_numpy\u001b[0m\u001b[0;34m(\u001b[0m\u001b[0;34m)\u001b[0m\u001b[0;34m,\u001b[0m \u001b[0mall_weights\u001b[0m\u001b[0;34m)\u001b[0m\u001b[0;34m\u001b[0m\u001b[0;34m\u001b[0m\u001b[0m\n\u001b[0m",
            "\u001b[0;32m<ipython-input-22-6fa27350feb5>\u001b[0m in \u001b[0;36mrun_neuron_on_dataset\u001b[0;34m(input_matrix, weight_vectors)\u001b[0m\n\u001b[1;32m     35\u001b[0m         \u001b[0mresults\u001b[0m \u001b[0;34m=\u001b[0m \u001b[0;34m[\u001b[0m\u001b[0;34m]\u001b[0m\u001b[0;34m\u001b[0m\u001b[0;34m\u001b[0m\u001b[0m\n\u001b[1;32m     36\u001b[0m         \u001b[0;32mfor\u001b[0m \u001b[0mweight_vector\u001b[0m \u001b[0;32min\u001b[0m \u001b[0mweight_vectors\u001b[0m\u001b[0;34m:\u001b[0m\u001b[0;34m\u001b[0m\u001b[0;34m\u001b[0m\u001b[0m\n\u001b[0;32m---> 37\u001b[0;31m             results.append(run_neuron(\n\u001b[0m\u001b[1;32m     38\u001b[0m                 \u001b[0;34m[\u001b[0m\u001b[0mtheta1\u001b[0m\u001b[0;34m,\u001b[0m \u001b[0mtheta2\u001b[0m\u001b[0;34m,\u001b[0m \u001b[0mtheta3\u001b[0m\u001b[0;34m]\u001b[0m\u001b[0;34m,\u001b[0m\u001b[0;34m\u001b[0m\u001b[0;34m\u001b[0m\u001b[0m\n\u001b[1;32m     39\u001b[0m                 weight_vector))\n",
            "\u001b[0;32m<ipython-input-22-6fa27350feb5>\u001b[0m in \u001b[0;36mrun_neuron\u001b[0;34m(input_vector, weight_vector)\u001b[0m\n\u001b[1;32m     19\u001b[0m     \u001b[0mneuron_transpiled\u001b[0m \u001b[0;34m=\u001b[0m \u001b[0mqiskit\u001b[0m\u001b[0;34m.\u001b[0m\u001b[0mtranspile\u001b[0m\u001b[0;34m(\u001b[0m\u001b[0mbound_neuron\u001b[0m\u001b[0;34m,\u001b[0m \u001b[0mbackend\u001b[0m\u001b[0;34m)\u001b[0m\u001b[0;34m\u001b[0m\u001b[0;34m\u001b[0m\u001b[0m\n\u001b[1;32m     20\u001b[0m \u001b[0;34m\u001b[0m\u001b[0m\n\u001b[0;32m---> 21\u001b[0;31m     \u001b[0mresult\u001b[0m \u001b[0;34m=\u001b[0m \u001b[0mbackend\u001b[0m\u001b[0;34m.\u001b[0m\u001b[0mrun\u001b[0m\u001b[0;34m(\u001b[0m\u001b[0mneuron_transpiled\u001b[0m\u001b[0;34m,\u001b[0m \u001b[0mshots\u001b[0m\u001b[0;34m=\u001b[0m\u001b[0;36m5000\u001b[0m\u001b[0;34m)\u001b[0m\u001b[0;34m.\u001b[0m\u001b[0mresult\u001b[0m\u001b[0;34m(\u001b[0m\u001b[0;34m)\u001b[0m\u001b[0;34m\u001b[0m\u001b[0;34m\u001b[0m\u001b[0m\n\u001b[0m\u001b[1;32m     22\u001b[0m     \u001b[0mcounts\u001b[0m \u001b[0;34m=\u001b[0m \u001b[0mresult\u001b[0m\u001b[0;34m.\u001b[0m\u001b[0mget_counts\u001b[0m\u001b[0;34m(\u001b[0m\u001b[0;34m)\u001b[0m\u001b[0;34m\u001b[0m\u001b[0;34m\u001b[0m\u001b[0m\n\u001b[1;32m     23\u001b[0m \u001b[0;34m\u001b[0m\u001b[0m\n",
            "\u001b[0;32m/usr/local/lib/python3.10/dist-packages/qiskit_aer/backends/aerbackend.py\u001b[0m in \u001b[0;36mrun\u001b[0;34m(self, circuits, validate, parameter_binds, **run_options)\u001b[0m\n\u001b[1;32m    222\u001b[0m                 \u001b[0;32mreturn\u001b[0m \u001b[0mself\u001b[0m\u001b[0;34m.\u001b[0m\u001b[0m_run_qobj\u001b[0m\u001b[0;34m(\u001b[0m\u001b[0mcircuits\u001b[0m\u001b[0;34m,\u001b[0m \u001b[0mvalidate\u001b[0m\u001b[0;34m,\u001b[0m \u001b[0mparameter_binds\u001b[0m\u001b[0;34m,\u001b[0m \u001b[0;34m**\u001b[0m\u001b[0mrun_options\u001b[0m\u001b[0;34m)\u001b[0m\u001b[0;34m\u001b[0m\u001b[0;34m\u001b[0m\u001b[0m\n\u001b[1;32m    223\u001b[0m             \u001b[0;32melse\u001b[0m\u001b[0;34m:\u001b[0m\u001b[0;34m\u001b[0m\u001b[0;34m\u001b[0m\u001b[0m\n\u001b[0;32m--> 224\u001b[0;31m                 \u001b[0;32mreturn\u001b[0m \u001b[0mself\u001b[0m\u001b[0;34m.\u001b[0m\u001b[0m_run_circuits\u001b[0m\u001b[0;34m(\u001b[0m\u001b[0mcircuits\u001b[0m\u001b[0;34m,\u001b[0m \u001b[0mparameter_binds\u001b[0m\u001b[0;34m,\u001b[0m \u001b[0;34m**\u001b[0m\u001b[0mrun_options\u001b[0m\u001b[0;34m)\u001b[0m\u001b[0;34m\u001b[0m\u001b[0;34m\u001b[0m\u001b[0m\n\u001b[0m\u001b[1;32m    225\u001b[0m         \u001b[0;32melif\u001b[0m \u001b[0;32mnot\u001b[0m \u001b[0monly_circuits\u001b[0m \u001b[0;32mand\u001b[0m \u001b[0monly_pulse\u001b[0m\u001b[0;34m:\u001b[0m\u001b[0;34m\u001b[0m\u001b[0;34m\u001b[0m\u001b[0m\n\u001b[1;32m    226\u001b[0m             \u001b[0;32mreturn\u001b[0m \u001b[0mself\u001b[0m\u001b[0;34m.\u001b[0m\u001b[0m_run_qobj\u001b[0m\u001b[0;34m(\u001b[0m\u001b[0mcircuits\u001b[0m\u001b[0;34m,\u001b[0m \u001b[0mvalidate\u001b[0m\u001b[0;34m,\u001b[0m \u001b[0mparameter_binds\u001b[0m\u001b[0;34m,\u001b[0m \u001b[0;34m**\u001b[0m\u001b[0mrun_options\u001b[0m\u001b[0;34m)\u001b[0m\u001b[0;34m\u001b[0m\u001b[0;34m\u001b[0m\u001b[0m\n",
            "\u001b[0;32m/usr/local/lib/python3.10/dist-packages/qiskit_aer/backends/aerbackend.py\u001b[0m in \u001b[0;36m_run_circuits\u001b[0;34m(self, circuits, parameter_binds, **run_options)\u001b[0m\n\u001b[1;32m    241\u001b[0m             \u001b[0mrun_options\u001b[0m\u001b[0;34m[\u001b[0m\u001b[0;34m\"parameterizations\"\u001b[0m\u001b[0;34m]\u001b[0m \u001b[0;34m=\u001b[0m \u001b[0mself\u001b[0m\u001b[0;34m.\u001b[0m\u001b[0m_convert_binds\u001b[0m\u001b[0;34m(\u001b[0m\u001b[0mcircuits\u001b[0m\u001b[0;34m,\u001b[0m \u001b[0mparameter_binds\u001b[0m\u001b[0;34m)\u001b[0m\u001b[0;34m\u001b[0m\u001b[0;34m\u001b[0m\u001b[0m\n\u001b[1;32m    242\u001b[0m         \u001b[0;32melif\u001b[0m \u001b[0;32mnot\u001b[0m \u001b[0mall\u001b[0m\u001b[0;34m(\u001b[0m\u001b[0;34m[\u001b[0m\u001b[0mlen\u001b[0m\u001b[0;34m(\u001b[0m\u001b[0mcircuit\u001b[0m\u001b[0;34m.\u001b[0m\u001b[0mparameters\u001b[0m\u001b[0;34m)\u001b[0m \u001b[0;34m==\u001b[0m \u001b[0;36m0\u001b[0m \u001b[0;32mfor\u001b[0m \u001b[0mcircuit\u001b[0m \u001b[0;32min\u001b[0m \u001b[0mcircuits\u001b[0m\u001b[0;34m]\u001b[0m\u001b[0;34m)\u001b[0m\u001b[0;34m:\u001b[0m\u001b[0;34m\u001b[0m\u001b[0;34m\u001b[0m\u001b[0m\n\u001b[0;32m--> 243\u001b[0;31m             \u001b[0;32mraise\u001b[0m \u001b[0mAerError\u001b[0m\u001b[0;34m(\u001b[0m\u001b[0;34m\"circuits have parameters but parameter_binds is not specified.\"\u001b[0m\u001b[0;34m)\u001b[0m\u001b[0;34m\u001b[0m\u001b[0;34m\u001b[0m\u001b[0m\n\u001b[0m\u001b[1;32m    244\u001b[0m         \u001b[0mconfig\u001b[0m \u001b[0;34m=\u001b[0m \u001b[0mgenerate_aer_config\u001b[0m\u001b[0;34m(\u001b[0m\u001b[0mcircuits\u001b[0m\u001b[0;34m,\u001b[0m \u001b[0mself\u001b[0m\u001b[0;34m.\u001b[0m\u001b[0moptions\u001b[0m\u001b[0;34m,\u001b[0m \u001b[0;34m**\u001b[0m\u001b[0mrun_options\u001b[0m\u001b[0;34m)\u001b[0m\u001b[0;34m\u001b[0m\u001b[0;34m\u001b[0m\u001b[0m\n\u001b[1;32m    245\u001b[0m \u001b[0;34m\u001b[0m\u001b[0m\n",
            "\u001b[0;31mAerError\u001b[0m: 'circuits have parameters but parameter_binds is not specified.'"
          ]
        }
      ],
      "source": [
        "all_weights = [class_1_weights, class_2_weights, class_3_weights]\n",
        "predictions = run_neuron_on_dataset(test.to_numpy(), all_weights)"
      ]
    },
    {
      "cell_type": "code",
      "execution_count": null,
      "id": "d8225184",
      "metadata": {
        "id": "d8225184"
      },
      "outputs": [],
      "source": [
        "def get_accuracy(predictions: list[tuple]) -> float:\n",
        "    accuracy = 0\n",
        "    for prediction in predictions:\n",
        "        accuracy += int(prediction[0] == prediction[1])\n",
        "    return accuracy/len(predictions)"
      ]
    },
    {
      "cell_type": "code",
      "execution_count": null,
      "id": "97aa40cd",
      "metadata": {
        "colab": {
          "base_uri": "https://localhost:8080/",
          "height": 189
        },
        "id": "97aa40cd",
        "outputId": "2dfeaaeb-ce29-40f0-bb4b-484832efe895"
      },
      "outputs": [
        {
          "output_type": "error",
          "ename": "NameError",
          "evalue": "ignored",
          "traceback": [
            "\u001b[0;31m---------------------------------------------------------------------------\u001b[0m",
            "\u001b[0;31mNameError\u001b[0m                                 Traceback (most recent call last)",
            "\u001b[0;32m<ipython-input-18-f736f8a03b28>\u001b[0m in \u001b[0;36m<cell line: 1>\u001b[0;34m()\u001b[0m\n\u001b[0;32m----> 1\u001b[0;31m \u001b[0mget_accuracy\u001b[0m\u001b[0;34m(\u001b[0m\u001b[0mpredictions\u001b[0m\u001b[0;34m)\u001b[0m\u001b[0;34m\u001b[0m\u001b[0;34m\u001b[0m\u001b[0m\n\u001b[0m",
            "\u001b[0;31mNameError\u001b[0m: name 'predictions' is not defined"
          ]
        }
      ],
      "source": [
        "get_accuracy(predictions)"
      ]
    },
    {
      "cell_type": "code",
      "execution_count": null,
      "id": "6dd7b9f1",
      "metadata": {
        "id": "6dd7b9f1"
      },
      "outputs": [],
      "source": []
    }
  ],
  "metadata": {
    "celltoolbar": "Raw Cell Format",
    "colab": {
      "provenance": []
    },
    "kernelspec": {
      "display_name": "Python 3 (ipykernel)",
      "language": "python",
      "name": "python3"
    },
    "language_info": {
      "codemirror_mode": {
        "name": "ipython",
        "version": 3
      },
      "file_extension": ".py",
      "mimetype": "text/x-python",
      "name": "python",
      "nbconvert_exporter": "python",
      "pygments_lexer": "ipython3",
      "version": "3.10.6"
    }
  },
  "nbformat": 4,
  "nbformat_minor": 5
}