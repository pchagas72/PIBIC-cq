{
 "cells": [
  {
   "cell_type": "code",
   "execution_count": null,
   "id": "51cc88db",
   "metadata": {},
   "outputs": [],
   "source": [
    "from qiskit import QuantumCircuit, Aer, transpile\n",
    "from qiskit.visualization import plot_histogram"
   ]
  },
  {
   "cell_type": "code",
   "execution_count": null,
   "id": "4bedc111",
   "metadata": {},
   "outputs": [],
   "source": [
    "def simular_circuito(circuito: QuantumCircuit, title: str) -> None:\n",
    "    simulador = Aer.get_backend('aer_simulator')\n",
    "    circuito = transpile(circuito, simulador)\n",
    "    resultado = simulador.run(circuito).result()\n",
    "    counts = resultado.get_counts(circuito)\n",
    "    display(plot_histogram(counts, title=title))\n"
   ]
  },
  {
   "cell_type": "markdown",
   "id": "6ca7f85b",
   "metadata": {},
   "source": [
    "#### Circuito 1\n",
    "Portas:\n",
    "- 2x Pauli-x gate\n",
    "\n",
    "    Neste circuito, aplica-se duas portas X, trocando as amplitudes do sistema para os dois qubits nele presentes."
   ]
  },
  {
   "cell_type": "code",
   "execution_count": null,
   "id": "22a41b70",
   "metadata": {},
   "outputs": [],
   "source": [
    "# Circuito 1\n",
    "def circuito_1() -> QuantumCircuit:\n",
    "    qc = QuantumCircuit(2, 2)\n",
    "    qc.x([]) # Alterar o input aqui\n",
    "    qc.x(0)\n",
    "    qc.x(1)\n",
    "    qc.measure(0, 0)\n",
    "    qc.measure(1, 1)\n",
    "    display(qc.draw(output=\"mpl\"))\n",
    "    display(simular_circuito(qc, \"Circuito 1\"))\n",
    "    return qc\n",
    "\n",
    "circuito_1()"
   ]
  },
  {
   "cell_type": "markdown",
   "id": "08dcea4a",
   "metadata": {},
   "source": [
    "#### Circuito 2\n",
    "Portas:\n",
    "- 1x CNOT \n",
    "\n",
    "    Neste circuito, aplica-se uma porta CNOT comum com o primeiro qubit sendo o controle, e o segundo, alvo. De tal maneira que sempre que se o primeiro qubit (controle) estiver no estado |1>, o segundo qubit terá suas amplitudes invertidas."
   ]
  },
  {
   "cell_type": "code",
   "execution_count": null,
   "id": "7b2fb0e2",
   "metadata": {},
   "outputs": [],
   "source": [
    "# Circuito 2\n",
    "def circuito_2() -> QuantumCircuit:\n",
    "    qc = QuantumCircuit(2, 2)\n",
    "    #qc.x([0,1]) # Alterar o input aqui\n",
    "    qc.cnot(1, 0)\n",
    "    qc.measure(0,0)\n",
    "    qc.measure(1,1)\n",
    "    display(qc.draw(output='mpl'))\n",
    "    display(simular_circuito(qc, \"Circuito 2\"))\n",
    "    return qc\n",
    "\n",
    "circuito_2()"
   ]
  },
  {
   "cell_type": "markdown",
   "id": "a0f84c79",
   "metadata": {},
   "source": [
    "#### Circuito 3\n",
    "Portas:\n",
    "- 1x CNOT \"invertida\"\n",
    "\n",
    "    Este circuito é bastante similar ao de número 2, porém o primeiro qubit (que continua sendo o controle) aplica uma porta pauli-x quando estivar no estado |0>, invertendo assim as amplitudes do segundo qubit."
   ]
  },
  {
   "cell_type": "code",
   "execution_count": null,
   "id": "3d06b16a",
   "metadata": {},
   "outputs": [],
   "source": [
    "# Circuito 3\n",
    "def circuito_3() -> QuantumCircuit:\n",
    "    qc = QuantumCircuit(2, 2)\n",
    "    #qc.x([]) # Alterar o input aqui\n",
    "    qc.cnot(1, 0, None, 0)\n",
    "    qc.measure(0,0)\n",
    "    qc.measure(1,1)\n",
    "    display(qc.draw(output='mpl'))\n",
    "    display(simular_circuito(qc, \"Circuito 3\"))\n",
    "    return qc\n",
    "\n",
    "circuito_3()"
   ]
  },
  {
   "cell_type": "markdown",
   "id": "b6bd419b",
   "metadata": {},
   "source": [
    "#### Circuito 4\n",
    "Portas:\n",
    "- 1x toffoli\n",
    "\n",
    "    Neste circuito, é utilizada uma porta \"toffoli\", que é bastante similar à porta CNOT, porém ela possui dois qubits controle, e neste caso, quando ambos os qubits controle (1 e 2) estão no estado |1>, o qubit 3 tem seu estado alterado. "
   ]
  },
  {
   "cell_type": "code",
   "execution_count": null,
   "id": "69c5db1e",
   "metadata": {},
   "outputs": [],
   "source": [
    "# Circuito 4\n",
    "def circuito_4() -> QuantumCircuit:\n",
    "    qc = QuantumCircuit(3, 3)\n",
    "    #qc.x([]) # Alterar o input aqui\n",
    "    qc.ccx(2, 1, 0)\n",
    "    qc.measure(0,0)\n",
    "    qc.measure(1,1)\n",
    "    qc.measure(2,2)\n",
    "    display(qc.draw(output='mpl'))\n",
    "    display(simular_circuito(qc, \"Circuito 4\"))\n",
    "    return qc\n",
    "\n",
    "circuito_4()"
   ]
  },
  {
   "cell_type": "markdown",
   "id": "6ab7a9e7",
   "metadata": {},
   "source": [
    "#### Circuito 5\n",
    "Portas:\n",
    "- 2x CNOT\n",
    "- 1x toffoli\n",
    "    \n",
    "    Neste circuito inicialmente são aplicadas duas portas CNOT, de tal mandeira que se o qubit 1 <b>ou</b> o qubit 2 estiverem no estado |1> o qubit 3 tem seu estado invertido, porém, logo após é aplicada uma porta toffoli, que inverte as amplitudes do terceiro qubit se o primeiro <b>e</b> o segundo qubit estiverem no estado |1>.\n",
    "    \n",
    "    Nota: Revendo este circuito me pergunto se essa era a maneira mais eficiente de aplica-lo."
   ]
  },
  {
   "cell_type": "code",
   "execution_count": null,
   "id": "346c12c7",
   "metadata": {},
   "outputs": [],
   "source": [
    "# Circuito 5\n",
    "def circuito_5() -> QuantumCircuit:\n",
    "    qc = QuantumCircuit(3, 3)\n",
    "    #qc.x([]) # Alterar o input aqui\n",
    "    qc.cnot([2, 1], 0)\n",
    "    qc.ccx(2,1,0)\n",
    "    qc.measure(0,0)\n",
    "    qc.measure(1,1)\n",
    "    qc.measure(2,2)\n",
    "    display(qc.draw(output='mpl'))\n",
    "    display(simular_circuito(qc, \"Circuito 5\"))\n",
    "    return qc\n",
    "\n",
    "circuito_5()"
   ]
  },
  {
   "cell_type": "markdown",
   "id": "70b4741a",
   "metadata": {},
   "source": [
    "#### Circuito 6\n",
    "Portas:\n",
    "- 1x Pauli-X\n",
    "\n",
    "    Um circuito bem simples, conta uma porta NOT aplicada em seu terceiro qubit que inverterá as suas amplitudes para obter os resultados desejados."
   ]
  },
  {
   "cell_type": "code",
   "execution_count": null,
   "id": "6c466779",
   "metadata": {},
   "outputs": [],
   "source": [
    "# Circuito 6\n",
    "def circuito_6() -> QuantumCircuit:\n",
    "    qc = QuantumCircuit(3, 3)\n",
    "    #qc.x([]) # Alterar o input aqui\n",
    "    qc.x(0)\n",
    "    qc.measure(0,0)\n",
    "    qc.measure(1,1)\n",
    "    qc.measure(2,2)\n",
    "    display(qc.draw(output='mpl'))\n",
    "    display(simular_circuito(qc, \"Circuito 6\"))\n",
    "    return qc\n",
    "\n",
    "circuito_6()"
   ]
  },
  {
   "cell_type": "markdown",
   "id": "004b2727",
   "metadata": {},
   "source": [
    "#### Bônus, criação de um bell-state\n",
    "Portas: \n",
    "- 1x Hadamard\n",
    "- 2x CNOT\n",
    "   \n",
    "    Este circuito cria um estado conhecido como \"estado de bell\", que cria um estado de superposição no qual não é possível identificar os valores dos qubits antes de sua medição. O que torna este estado tão especial é o fato de nele encontrarmos o mais simples exemplo de emaramento quântico.\n",
    "    \n",
    "    Fiz isto já que na atividade 04 constava pesquisar sobre estados de bell.\n",
    "   "
   ]
  },
  {
   "cell_type": "code",
   "execution_count": null,
   "id": "7f801439",
   "metadata": {
    "scrolled": true
   },
   "outputs": [],
   "source": [
    "def bell_state() -> QuantumCircuit:\n",
    "    qc = QuantumCircuit(2,2)\n",
    "    qc.h(0)\n",
    "    qc.cnot(1,0)\n",
    "    qc.measure(0,0)\n",
    "    qc.measure(0,1)\n",
    "    display(qc.draw(output='mpl'))\n",
    "    display(simular_circuito(qc, \"Bell state\"))\n",
    "    return qc\n",
    "\n",
    "bell_state()"
   ]
  },
  {
   "cell_type": "code",
   "execution_count": null,
   "id": "288fd5ef",
   "metadata": {},
   "outputs": [],
   "source": []
  }
 ],
 "metadata": {
  "kernelspec": {
   "display_name": "Python 3 (ipykernel)",
   "language": "python",
   "name": "python3"
  },
  "language_info": {
   "codemirror_mode": {
    "name": "ipython",
    "version": 3
   },
   "file_extension": ".py",
   "mimetype": "text/x-python",
   "name": "python",
   "nbconvert_exporter": "python",
   "pygments_lexer": "ipython3",
   "version": "3.10.9"
  }
 },
 "nbformat": 4,
 "nbformat_minor": 5
}
